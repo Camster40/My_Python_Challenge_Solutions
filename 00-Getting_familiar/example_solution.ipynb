{
 "cells": [
  {
   "cell_type": "markdown",
   "metadata": {},
   "source": [
    "# 00 - Getting Familiar"
   ]
  },
  {
   "cell_type": "markdown",
   "metadata": {},
   "source": [
    "### Importing the `Challenge` class"
   ]
  },
  {
   "cell_type": "code",
   "execution_count": 17,
   "metadata": {},
   "outputs": [],
   "source": [
    "from challenge import Challenge  # Importing the Challenge class"
   ]
  },
  {
   "cell_type": "markdown",
   "metadata": {},
   "source": [
    "### Defining the `my_solver` function"
   ]
  },
  {
   "cell_type": "markdown",
   "metadata": {},
   "source": [
    "I've already looked at the instructions found in `challenge.data` and it says:\n",
    "\n",
    "> The solution to this challenge is a list containing the string `o7`.\n",
    "\n",
    "So I've made a function that does just that."
   ]
  },
  {
   "cell_type": "code",
   "execution_count": 18,
   "metadata": {},
   "outputs": [],
   "source": [
    "def my_solver(challenge: Challenge):\n",
    "    my_list = []  # Making an empty list\n",
    "    my_string = \"o7\"  # Making the `o7` string\n",
    "    my_list.append(my_string)  # Putting the string into the list\n",
    "    return my_list  # Returning the list as the answer"
   ]
  },
  {
   "cell_type": "markdown",
   "metadata": {},
   "source": [
    "### Testing `my_solver` against the `Challenge` data."
   ]
  },
  {
   "cell_type": "markdown",
   "metadata": {},
   "source": [
    "So now we have a function (`my_solver()`) that generates a potential solution to the challenge.\n",
    "\n",
    "Next we have to check that our solution is correct. To do this, we can use the `.check_solution()` method of the `Challenge` object.\n",
    "\n",
    "1. So first we make an instance of our challenge class using `Challenge()`. (We can access its attributes using dot-notation)\n",
    "\n",
    "2. Then we can run our solver function to get a solution.\n",
    "\n",
    "3. Use the `.check_solution()` method to see if our solution is correct.\n",
    "\n",
    "We can even choose to print the results to the terminal to help with troubleshooting"
   ]
  },
  {
   "cell_type": "code",
   "execution_count": 19,
   "metadata": {},
   "outputs": [
    {
     "name": "stdout",
     "output_type": "stream",
     "text": [
      "\n",
      "Challenge | The solution to this challenge is a list containing the string `o7`.\n",
      " Solution | ['o7']\n",
      "   Result | True\n",
      "\n"
     ]
    }
   ],
   "source": [
    "if __name__ == \"__main__\":\n",
    "    my_challenge = Challenge()  # 1. Creating an instance of the Challenge class\n",
    "    raw_data = my_challenge.data\n",
    "    solution = my_solver(my_challenge)  # 2. Getting a solution from the solver\n",
    "    result = my_challenge.check_solution(solution)  # 3.Checking the solution\n",
    "    print(\n",
    "        f\"\"\"\n",
    "Challenge | {raw_data}\n",
    " Solution | {solution}\n",
    "   Result | {result}\n",
    "\"\"\"\n",
    "    )"
   ]
  },
  {
   "cell_type": "markdown",
   "metadata": {},
   "source": [
    "Here we can see:\n",
    "- The data for this challenge is just the instructions..\n",
    "- The solution we entered was indeed `['o7']` (A list containing the string \"o7\").\n",
    "- The solution check came back `True` so we got the challenge right."
   ]
  }
 ],
 "metadata": {
  "kernelspec": {
   "display_name": "Python 3",
   "language": "python",
   "name": "python3"
  },
  "language_info": {
   "codemirror_mode": {
    "name": "ipython",
    "version": 3
   },
   "file_extension": ".py",
   "mimetype": "text/x-python",
   "name": "python",
   "nbconvert_exporter": "python",
   "pygments_lexer": "ipython3",
   "version": "3.12.8"
  }
 },
 "nbformat": 4,
 "nbformat_minor": 2
}
